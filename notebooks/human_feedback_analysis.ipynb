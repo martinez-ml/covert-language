{
 "cells": [
  {
   "cell_type": "code",
   "execution_count": 1,
   "id": "1e0045c8-4c17-420a-bc47-49b36ab78045",
   "metadata": {},
   "outputs": [],
   "source": [
    "from matplotlib import pyplot as plt\n",
    "\n",
    "import numpy as np\n",
    "import pandas as pd\n",
    "import seaborn as sns\n",
    "from statsmodels.stats.weightstats import ttest_ind\n",
    "\n",
    "import helpers"
   ]
  },
  {
   "cell_type": "markdown",
   "id": "a45c0784",
   "metadata": {},
   "source": [
    "### Data loading"
   ]
  },
  {
   "cell_type": "code",
   "execution_count": 2,
   "id": "2172e601",
   "metadata": {},
   "outputs": [],
   "source": [
    "attribute_name = \"katz\"\n",
    "attributes = helpers.load_attributes(attribute_name)\n",
    "attribute2favorability = helpers.load_favorability_ratings()\n",
    "\n",
    "#variables = [\"blodgett\", \"groenwold\", \"race\"]\n",
    "#variable2type = {\n",
    "#    \"blodgett\": \"covert\",\n",
    "#    \"groenwold\": \"covert\",\n",
    "#    \"race\": \"overt\"\n",
    "#}\n",
    "variables = [\"output2\"]\n",
    "variable2type = {\n",
    "    \"output2\": \"covert\"\n",
    "}\n",
    "stereotype_types = [\"overt\", \"covert\"]\n",
    "\n",
    "model = \"google/gemma-2b\"\n",
    "model_variants = [\"google-gemma-2b\"]"
   ]
  },
  {
   "cell_type": "code",
   "execution_count": 3,
   "id": "f88f68a7",
   "metadata": {},
   "outputs": [
    {
     "name": "stderr",
     "output_type": "stream",
     "text": [
      "C:\\Users\\josep\\Downloads\\dialect-prejudice-main\\dialect-prejudice-main\\notebooks\\helpers.py:298: RuntimeWarning: invalid value encountered in log10\n",
      "  np.log10(prob_aave / prob_sae), # Probability change for trait\n"
     ]
    }
   ],
   "source": [
    "stereotype_results = pd.DataFrame()\n",
    "for variable in variables:\n",
    "    for model_variant in model_variants:\n",
    "        results = helpers.load_results(\n",
    "            model_variant, \n",
    "            variable, \n",
    "            attribute_name,\n",
    "            True\n",
    "        )\n",
    "        results_df = helpers.results2df(\n",
    "            results, \n",
    "            attributes, \n",
    "            model,\n",
    "            variable\n",
    "        )\n",
    "        results_df[\"type\"] = variable2type[variable]\n",
    "        results_df[\"model\"] = model_variant\n",
    "        stereotype_results = pd.concat([\n",
    "            stereotype_results, \n",
    "            results_df, \n",
    "        ])"
   ]
  },
  {
   "cell_type": "markdown",
   "id": "7b1dcdae",
   "metadata": {},
   "source": [
    "### Analysis"
   ]
  },
  {
   "cell_type": "code",
   "execution_count": 4,
   "id": "a283fe14",
   "metadata": {},
   "outputs": [
    {
     "name": "stdout",
     "output_type": "stream",
     "text": [
      "overt google-gemma-2b [] []\n",
      "covert google-gemma-2b ['aggressive', 'persistent', 'imaginative', 'loud', 'ambitious'] [-0.58, 0.87, 1.33, -0.65, 0.9]\n"
     ]
    }
   ],
   "source": [
    "k = 5\n",
    "for stereotype_type in stereotype_types:\n",
    "    for model_variant in model_variants:\n",
    "        attributes_model = stereotype_results[\n",
    "            (stereotype_results.type==stereotype_type) &\n",
    "            (stereotype_results.model==model_variant)\n",
    "        ].groupby(\"attribute\", as_index=False)[\"ratio\"].mean()\n",
    "        attributes_model_ranked = attributes_model.sort_values( \n",
    "            by=\"ratio\",\n",
    "            ascending=False\n",
    "        )[\"attribute\"].tolist()\n",
    "        print(stereotype_type, model_variant, attributes_model_ranked[:k], [attribute2favorability[a] for a in attributes_model_ranked[:k]])"
   ]
  },
  {
   "cell_type": "code",
   "execution_count": 5,
   "id": "e77cc1fb",
   "metadata": {},
   "outputs": [],
   "source": [
    "# Favorability\n",
    "k = 5\n",
    "favorability_list = []\n",
    "for stereotype_type in stereotype_types:\n",
    "    for model_variant in model_variants:\n",
    "        results_model = stereotype_results[\n",
    "            (stereotype_results.type==stereotype_type) &\n",
    "            (stereotype_results.model==model_variant)\n",
    "        ]\n",
    "        for prompt in set(results_model.prompt):\n",
    "            attributes_model = results_model[\n",
    "                results_model.prompt==prompt\n",
    "            ].groupby(\"attribute\", as_index=False)[\"ratio\"].mean()\n",
    "            attributes_model_ranked = attributes_model.sort_values( \n",
    "                by=\"ratio\",\n",
    "                ascending=False\n",
    "            )[\"attribute\"].tolist()\n",
    "            weights_model_ranked = attributes_model.sort_values( \n",
    "                by=\"ratio\",\n",
    "                ascending=False\n",
    "            )[\"ratio\"].tolist()\n",
    "            mean_sentiment = helpers.mean_favorability(\n",
    "                attributes_model_ranked[:k], \n",
    "                attribute2favorability,\n",
    "                weights_model_ranked[:k]\n",
    "            )\n",
    "            favorability_list.append((\n",
    "                mean_sentiment,\n",
    "                model_variant,\n",
    "                stereotype_type,\n",
    "                prompt\n",
    "            ))\n",
    "\n",
    "favorability_results = pd.DataFrame(\n",
    "    favorability_list,\n",
    "    columns=[\"favorability\", \"model\", \"type\", \"prompt\"]\n",
    ")"
   ]
  },
  {
   "cell_type": "code",
   "execution_count": 6,
   "id": "59c3f352",
   "metadata": {},
   "outputs": [],
   "source": [
    "# Strength\n",
    "k = 5\n",
    "attribute2score = helpers.load_ratings(\"katz\")\n",
    "stereo_attributes = helpers.get_top_attributes(\n",
    "    attributes,\n",
    "    attribute2score,\n",
    "    k\n",
    ")\n",
    "stereotype_results[\"attribute_class\"] = stereotype_results.attribute.apply(\n",
    "    lambda x: helpers.attribute2class(x, stereo_attributes)\n",
    ")\n",
    "\n",
    "strength_list = []\n",
    "for stereotype_type in stereotype_types:\n",
    "    for model_variant in model_variants:\n",
    "        results_model = stereotype_results[\n",
    "            (stereotype_results.type==stereotype_type) &\n",
    "            (stereotype_results.model==model_variant)\n",
    "        ]\n",
    "        prompts = set(results_model.prompt)\n",
    "        for prompt in prompts:\n",
    "            dif = helpers.get_dif(\n",
    "                results_model[\n",
    "                    (results_model.prompt==prompt) & \n",
    "                    (results_model.attribute_class==\"general\")\n",
    "                ], \n",
    "                results_model[\n",
    "                    (results_model.prompt==prompt) & \n",
    "                    (results_model.attribute_class==\"stereo\")\n",
    "                ] \n",
    "            )\n",
    "            strength_list.append((\n",
    "                dif,\n",
    "                model_variant,\n",
    "                stereotype_type,\n",
    "                prompt\n",
    "            ))\n",
    "\n",
    "strength_results = pd.DataFrame(\n",
    "    strength_list,\n",
    "    columns=[\"strength\", \"model\", \"type\", \"prompt\"]\n",
    ")"
   ]
  },
  {
   "cell_type": "code",
   "execution_count": 7,
   "id": "a840ff74",
   "metadata": {},
   "outputs": [
    {
     "name": "stdout",
     "output_type": "stream",
     "text": [
      "google-gemma-2b nan nan\n",
      "(nan, nan, -2.0)\n"
     ]
    },
    {
     "name": "stderr",
     "output_type": "stream",
     "text": [
      "C:\\Users\\josep\\AppData\\Local\\Programs\\Python\\Python311\\Lib\\site-packages\\statsmodels\\stats\\weightstats.py:135: RuntimeWarning: invalid value encountered in scalar divide\n",
      "  return self.sum / self.sum_weights\n",
      "C:\\Users\\josep\\AppData\\Local\\Programs\\Python\\Python311\\Lib\\site-packages\\statsmodels\\stats\\weightstats.py:999: RuntimeWarning: divide by zero encountered in scalar divide\n",
      "  return np.sqrt(var_pooled * (1.0 / d1.nobs + 1.0 / d2.nobs))\n",
      "C:\\Users\\josep\\AppData\\Local\\Programs\\Python\\Python311\\Lib\\site-packages\\statsmodels\\stats\\weightstats.py:999: RuntimeWarning: invalid value encountered in scalar multiply\n",
      "  return np.sqrt(var_pooled * (1.0 / d1.nobs + 1.0 / d2.nobs))\n"
     ]
    }
   ],
   "source": [
    "# Strength (overt)\n",
    "for model_variant in model_variants:\n",
    "    print(\n",
    "        model_variant,\n",
    "        np.mean(strength_results[\n",
    "            (strength_results.model==model_variant) & \n",
    "            (strength_results.type==\"overt\")\n",
    "        ].strength),\n",
    "        np.std(strength_results[\n",
    "            (strength_results.model==model_variant) & \n",
    "            (strength_results.type==\"overt\")\n",
    "        ].strength)\n",
    "    )\n",
    "print(ttest_ind(\n",
    "    strength_results[\n",
    "        (strength_results.model==\"gpt3-davinci\") & \n",
    "        (strength_results.type==\"overt\")\n",
    "    ].strength,\n",
    "    strength_results[\n",
    "        (strength_results.model==\"gpt3\") & \n",
    "        (strength_results.type==\"overt\")\n",
    "    ].strength\n",
    "))"
   ]
  },
  {
   "cell_type": "code",
   "execution_count": 8,
   "id": "71343f4c",
   "metadata": {},
   "outputs": [
    {
     "name": "stdout",
     "output_type": "stream",
     "text": [
      "google-gemma-2b nan nan\n",
      "(nan, nan, -2.0)\n"
     ]
    }
   ],
   "source": [
    "# Favorability (overt)\n",
    "for model_variant in model_variants:\n",
    "    print(\n",
    "        model_variant,\n",
    "        np.mean(favorability_results[\n",
    "            (favorability_results.model==model_variant) & \n",
    "            (favorability_results.type==\"overt\")\n",
    "        ].favorability),\n",
    "        np.std(favorability_results[\n",
    "            (favorability_results.model==model_variant) & \n",
    "            (favorability_results.type==\"overt\")\n",
    "        ].favorability)\n",
    "    )\n",
    "print(ttest_ind(\n",
    "    favorability_results[\n",
    "        (favorability_results.model==\"gpt3-davinci\") & \n",
    "        (favorability_results.type==\"overt\")\n",
    "    ].favorability,\n",
    "    favorability_results[\n",
    "        (favorability_results.model==\"gpt3\") & \n",
    "        (favorability_results.type==\"overt\")\n",
    "    ].favorability\n",
    "))"
   ]
  },
  {
   "cell_type": "code",
   "execution_count": 9,
   "id": "fd5af589",
   "metadata": {},
   "outputs": [
    {
     "name": "stdout",
     "output_type": "stream",
     "text": [
      "google-gemma-2b -0.020698996650269814 0.07345391048045175\n",
      "(nan, nan, -2.0)\n"
     ]
    }
   ],
   "source": [
    "# Strength (covert)\n",
    "for model_variant in model_variants:\n",
    "    print(\n",
    "        model_variant,\n",
    "        np.mean(strength_results[\n",
    "            (strength_results.model==model_variant) & \n",
    "            (strength_results.type==\"covert\")\n",
    "        ].strength),\n",
    "        np.std(strength_results[\n",
    "            (strength_results.model==model_variant) & \n",
    "            (strength_results.type==\"covert\")\n",
    "        ].strength)\n",
    "    )\n",
    "print(ttest_ind(\n",
    "    strength_results[\n",
    "        (strength_results.model==\"gpt3-davinci\") & \n",
    "        (strength_results.type==\"covert\")\n",
    "    ].strength,\n",
    "    strength_results[\n",
    "        (strength_results.model==\"gpt3\") & \n",
    "        (strength_results.type==\"covert\")\n",
    "    ].strength\n",
    "))"
   ]
  },
  {
   "cell_type": "code",
   "execution_count": 10,
   "id": "2bf352c6",
   "metadata": {},
   "outputs": [
    {
     "name": "stdout",
     "output_type": "stream",
     "text": [
      "google-gemma-2b 0.08976261483167526 0.8401631913967389\n",
      "(nan, nan, -2.0)\n"
     ]
    }
   ],
   "source": [
    "# Favorability (covert)\n",
    "for model_variant in model_variants:\n",
    "    print(\n",
    "        model_variant,\n",
    "        np.mean(favorability_results[\n",
    "            (favorability_results.model==model_variant) & \n",
    "            (favorability_results.type==\"covert\")\n",
    "        ].favorability),\n",
    "        np.std(favorability_results[\n",
    "            (favorability_results.model==model_variant) & \n",
    "            (favorability_results.type==\"covert\")\n",
    "        ].favorability)\n",
    "    )\n",
    "print(ttest_ind(\n",
    "    favorability_results[\n",
    "        (favorability_results.model==\"gpt3-davinci\") & \n",
    "        (favorability_results.type==\"covert\")\n",
    "    ].favorability,\n",
    "    favorability_results[\n",
    "        (favorability_results.model==\"gpt3\") & \n",
    "        (favorability_results.type==\"covert\")\n",
    "    ].favorability\n",
    "))"
   ]
  },
  {
   "cell_type": "code",
   "execution_count": 11,
   "id": "03677776",
   "metadata": {},
   "outputs": [
    {
     "name": "stderr",
     "output_type": "stream",
     "text": [
      "C:\\Users\\josep\\AppData\\Local\\Temp\\ipykernel_21080\\4223322325.py:17: UserWarning: set_ticklabels() should only be used with a fixed number of ticks, i.e. after set_ticks() or using a FixedLocator.\n",
      "  axes[0].set_xticklabels([\"Without HF\", \"With HF\"])\n",
      "C:\\Users\\josep\\AppData\\Local\\Temp\\ipykernel_21080\\4223322325.py:35: UserWarning: set_ticklabels() should only be used with a fixed number of ticks, i.e. after set_ticks() or using a FixedLocator.\n",
      "  axes[1].set_xticklabels([\"Without HF\", \"With HF\"])\n"
     ]
    },
    {
     "data": {
      "image/png": "[encoded data removed]",
      "text/plain": [
       "<Figure size 800x300 with 2 Axes>"
      ]
     },
     "metadata": {},
     "output_type": "display_data"
    }
   ],
   "source": [
    "fig, axes = plt.subplots(1, 2, figsize=(8, 3))\n",
    "\n",
    "sns.pointplot(\n",
    "    data=strength_results, \n",
    "    x=\"model\", \n",
    "    y=\"strength\", \n",
    "    hue=\"type\", \n",
    "    errorbar=\"se\", \n",
    "    capsize=0.2,\n",
    "    palette=\"Blues\",\n",
    "    hue_order=[\"covert\", \"overt\"],\n",
    "    ax=axes[0]\n",
    ")\n",
    "\n",
    "axes[0].get_legend().remove()\n",
    "axes[0].set_xlabel(\"\")\n",
    "axes[0].set_xticklabels([\"Without HF\", \"With HF\"])\n",
    "axes[0].set_ylabel(\"Stereotype strength\")\n",
    "axes[0].spines[[\"right\", \"top\"]].set_visible(False)\n",
    "\n",
    "sns.pointplot(\n",
    "    data=favorability_results, \n",
    "    x=\"model\", \n",
    "    y=\"favorability\", \n",
    "    hue=\"type\", \n",
    "    errorbar=\"se\", \n",
    "    capsize=0.2,\n",
    "    palette=\"Blues\",\n",
    "    hue_order=[\"covert\", \"overt\"],\n",
    "    ax=axes[1]\n",
    ")\n",
    "\n",
    "axes[1].get_legend().remove()\n",
    "axes[1].set_xlabel(\"\")\n",
    "axes[1].set_xticklabels([\"Without HF\", \"With HF\"])\n",
    "axes[1].set_ylabel(\"Favorability\")\n",
    "axes[1].spines[[\"right\", \"top\"]].set_visible(False)\n",
    "\n",
    "handles, _ = axes[0].get_legend_handles_labels()\n",
    "fig.legend(handles, [\"Covert stereotypes\", \"Overt stereotypes\"], loc=\"lower center\", ncols=2, bbox_to_anchor=(0.5, 1))\n",
    "\n",
    "plt.tight_layout()\n",
    "plt.show()"
   ]
  }
 ],
 "metadata": {
  "kernelspec": {
   "display_name": "Python 3 (ipykernel)",
   "language": "python",
   "name": "python3"
  },
  "language_info": {
   "codemirror_mode": {
    "name": "ipython",
    "version": 3
   },
   "file_extension": ".py",
   "mimetype": "text/x-python",
   "name": "python",
   "nbconvert_exporter": "python",
   "pygments_lexer": "ipython3",
   "version": "3.11.8"
  }
 },
 "nbformat": 4,
 "nbformat_minor": 5
}
